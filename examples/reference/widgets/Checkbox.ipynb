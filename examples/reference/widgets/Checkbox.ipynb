{
 "cells": [
  {
   "cell_type": "code",
   "execution_count": null,
   "metadata": {},
   "outputs": [],
   "source": [
    "import panel as pn\n",
    "import panel_material_ui as pmui\n",
    "\n",
    "pn.extension()"
   ]
  },
  {
   "cell_type": "markdown",
   "metadata": {},
   "source": [
    "The `Checkbox` widget allows users to toggle between `True` and `False` states by checking or unchecking a box. This widget provides the same functionality as the `Toggle` widget but with a different visual appearance.\n",
    "\n",
    "For single boolean options, consider using the `Toggle` widget instead, as it may provide a more intuitive user experience.\n",
    "\n",
    "#### Parameters\n",
    "\n",
    "For more details on customization options, see the [customization guides](https://panel-material-ui.holoviz.org/customization/index.html).\n",
    "\n",
    "##### Core\n",
    "\n",
    "* **`disabled`** (bool): If True, the widget is not interactive.\n",
    "* **`indeterminate`** (bool): Whether the checkbox can be in an indeterminate state (i.e. `None`).\n",
    "* **`value`** (bool): The current state of the checkbox (`True` for checked, `False` for unchecked, `None` for indeterminate).\n",
    "\n",
    "##### Display\n",
    "\n",
    "* **`label`** (str): The text label displayed next to the checkbox.\n",
    "\n",
    "##### Styling\n",
    "\n",
    "- **`color`** (str): The color theme of the checkbox.\n",
    "- **`size`** (str): The size of the checkbox icon.\n",
    "- **`sx`** (dict): Component-level styling options.\n",
    "- **`theme_config`** (dict): Theming configuration.\n",
    "\n",
    "##### Aliases\n",
    "\n",
    "For compatibility with Panel, some parameters have aliases:\n",
    "\n",
    "- **`name`**: Alias for `label`\n",
    "\n",
    "___"
   ]
  },
  {
   "cell_type": "markdown",
   "metadata": {},
   "source": [
    "### Basic Usage\n",
    "\n",
    "Create a simple checkbox with a label:"
   ]
  },
  {
   "cell_type": "code",
   "execution_count": null,
   "metadata": {},
   "outputs": [],
   "source": [
    "checkbox = pmui.Checkbox(label='Checkbox')\n",
    "\n",
    "checkbox"
   ]
  },
  {
   "cell_type": "markdown",
   "metadata": {},
   "source": [
    "The `value` parameter reflects the checkbox state: `True` when checked, `False` when unchecked."
   ]
  },
  {
   "cell_type": "code",
   "execution_count": null,
   "metadata": {},
   "outputs": [],
   "source": [
    "checkbox.value"
   ]
  },
  {
   "cell_type": "markdown",
   "metadata": {},
   "source": [
    "### Indeterminate State\n",
    "\n",
    "The `indeterminate` option can be enabled to allow enabling a third \"undefined\" state. A checkbox can be toggled to indeterminate state by setting the `value` to `None`:"
   ]
  },
  {
   "cell_type": "code",
   "execution_count": null,
   "metadata": {},
   "outputs": [],
   "source": [
    "pmui.Checkbox(label='Checkbox', indeterminate=True, value=None)"
   ]
  },
  {
   "cell_type": "markdown",
   "metadata": {},
   "source": [
    "### Color Options\n",
    "\n",
    "Customize the checkbox appearance using the `color` parameter:"
   ]
  },
  {
   "cell_type": "code",
   "execution_count": null,
   "metadata": {},
   "outputs": [],
   "source": [
    "pmui.FlexBox(\n",
    "    *(pmui.Checkbox(value=True, label=color, color=color) for color in pmui.Checkbox.param.color.objects)\n",
    ")"
   ]
  },
  {
   "cell_type": "markdown",
   "metadata": {},
   "source": [
    "### Size Options\n",
    "\n",
    "Adjust the checkbox size using the `size` parameter:"
   ]
  },
  {
   "cell_type": "code",
   "execution_count": null,
   "metadata": {},
   "outputs": [],
   "source": [
    "pmui.FlexBox(\n",
    "    *(pmui.Checkbox(label=size, size=size) for size in pmui.Checkbox.param.size.objects)\n",
    ")"
   ]
  },
  {
   "cell_type": "markdown",
   "metadata": {},
   "source": [
    "### Disabled and Loading\n",
    "\n",
    "Like other widgets, the `Checkbox` can be disabled and/or show a loading indicator."
   ]
  },
  {
   "cell_type": "code",
   "execution_count": null,
   "metadata": {},
   "outputs": [],
   "source": [
    "pmui.Checkbox(label=\"Checkbox\", disabled=True, loading=True)"
   ]
  },
  {
   "cell_type": "markdown",
   "metadata": {},
   "source": [
    "### Example: Rockn' Roll"
   ]
  },
  {
   "cell_type": "code",
   "execution_count": null,
   "metadata": {},
   "outputs": [],
   "source": [
    "import panel as pn\n",
    "import panel_material_ui as pmui\n",
    "\n",
    "pn.extension()\n",
    "\n",
    "like_rock_roll = pmui.Checkbox(label=\"I like rock and roll\", value=True)\n",
    "\n",
    "def create_statement(value):\n",
    "    if value:\n",
    "        return \"👍 Rock and roll is great!\"\n",
    "    \n",
    "    return \"👎 Rock and roll is not my thing.\"\n",
    "\n",
    "statement=pn.bind(create_statement, like_rock_roll)\n",
    "\n",
    "pmui.Column(like_rock_roll, statement)"
   ]
  },
  {
   "cell_type": "markdown",
   "metadata": {},
   "source": [
    "### API Reference\n",
    "\n",
    "#### Parameters"
   ]
  },
  {
   "cell_type": "code",
   "execution_count": null,
   "metadata": {},
   "outputs": [],
   "source": [
    "pmui.Checkbox(label=\"Checkbox\").api(jslink=True)"
   ]
  },
  {
   "cell_type": "markdown",
   "metadata": {},
   "source": [
    "### References\n",
    "\n",
    "**Panel Documentation:**\n",
    "\n",
    "- [How-to guides on interactivity](https://panel.holoviz.org/how_to/interactivity/index.html) - Learn how to add interactivity to your applications using widgets\n",
    "- [Setting up callbacks and links](https://panel.holoviz.org/how_to/links/index.html) - Connect parameters between components and create reactive interfaces\n",
    "- [Declarative UIs with Param](https://panel.holoviz.org/how_to/param/index.html) - Build parameter-driven applications\n",
    "\n",
    "**Material UI CheckBox:**\n",
    "\n",
    "- [Material UI CheckBox Reference](https://mui.com/material-ui/react-checkbox/) - Complete documentation for the underlying Material UI component\n",
    "- [Material UI CheckBox API](https://mui.com/material-ui/api/checkbox/) - Detailed API reference and configuration options"
   ]
  }
 ],
 "metadata": {
  "kernelspec": {
   "display_name": "Python 3 (ipykernel)",
   "language": "python",
   "name": "python3"
  },
  "language_info": {
   "codemirror_mode": {
    "name": "ipython",
    "version": 3
   },
   "file_extension": ".py",
   "mimetype": "text/x-python",
   "name": "python",
   "nbconvert_exporter": "python",
   "pygments_lexer": "ipython3",
   "version": "3.12.9"
  }
 },
 "nbformat": 4,
 "nbformat_minor": 4
}
